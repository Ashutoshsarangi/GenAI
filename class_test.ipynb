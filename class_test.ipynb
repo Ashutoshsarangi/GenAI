{
 "cells": [
  {
   "cell_type": "code",
   "execution_count": 7,
   "id": "af0a7d25",
   "metadata": {},
   "outputs": [],
   "source": [
    "#How would you design a Python class to represent a BankAccount class\n",
    "# that models a bank account with deposit and withdraw methods\n",
    "\n",
    "class BankAccount:\n",
    "    def __init__(self, account_number: str):\n",
    "        self.account_number = account_number\n",
    "        self.balance = 0.0\n",
    "\n",
    "    def deposit(self, amount: float) -> None:\n",
    "        if amount <= 0:\n",
    "            raise ValueError(\"Deposit amount must be positive\")\n",
    "        self.balance += amount\n",
    "\n",
    "    def withdraw(self, amount: float) -> None:\n",
    "        if amount <= 0:\n",
    "            raise ValueError(\"Withdrawal amount must be positive\")\n",
    "        if amount > self.balance:\n",
    "            raise ValueError(\"Insufficient funds\")\n",
    "        self.balance -= amount\n",
    "    \n",
    "    def __str__(self) -> str:\n",
    "        return f\"BankAccount(account_number={self.account_number}, balance={self.balance})\""
   ]
  },
  {
   "cell_type": "code",
   "execution_count": 10,
   "id": "f8aacbe2",
   "metadata": {},
   "outputs": [
    {
     "name": "stdout",
     "output_type": "stream",
     "text": [
      "100.0 123456789\n",
      "BankAccount(account_number=123456789, balance=50.0)\n"
     ]
    }
   ],
   "source": [
    "bank_account = BankAccount(\"123456789\")\n",
    "bank_account.deposit(100.0)\n",
    "print(bank_account.balance, bank_account.account_number)\n",
    "bank_account.withdraw(50.0)\n",
    "print(bank_account)  # Output: BankAccount(account_number=123456789, balance=50.0)"
   ]
  },
  {
   "cell_type": "code",
   "execution_count": null,
   "id": "8cdfe078",
   "metadata": {},
   "outputs": [],
   "source": []
  }
 ],
 "metadata": {
  "kernelspec": {
   "display_name": ".venv",
   "language": "python",
   "name": "python3"
  },
  "language_info": {
   "codemirror_mode": {
    "name": "ipython",
    "version": 3
   },
   "file_extension": ".py",
   "mimetype": "text/x-python",
   "name": "python",
   "nbconvert_exporter": "python",
   "pygments_lexer": "ipython3",
   "version": "3.11.3"
  }
 },
 "nbformat": 4,
 "nbformat_minor": 5
}
