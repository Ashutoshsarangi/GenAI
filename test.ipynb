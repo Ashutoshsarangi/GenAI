{
 "cells": [
  {
   "cell_type": "code",
   "execution_count": null,
   "id": "cd4f6b18",
   "metadata": {},
   "outputs": [],
   "source": [
    "def group_by_key(items, key):\n",
    "    grouped = {}\n",
    "    for item in items:\n",
    "        group_key = item[key] # {\"type\": \"fruit\", \"name\": \"apple\"},\n",
    "        if group_key not in grouped: # \"fruit\"\n",
    "            grouped[group_key] = [] #{\"fruit\": [{\"type\": \"fruit\", \"name\": \"apple\"}]}\n",
    "        grouped[group_key].append(item)\n",
    "    return grouped\n",
    "\n",
    "items = [\n",
    "    {\"type\": \"fruit\", \"name\": \"apple\"},\n",
    "    {\"type\": \"fruit\", \"name\": \"banana\"},\n",
    "    {\"type\": \"vegetable\", \"name\": \"carrot\"}\n",
    "]\n",
    "key = \"type\"\n",
    "\n",
    "expected_output = {\n",
    "    \"fruit\": [\n",
    "        {\"type\": \"fruit\", \"name\": \"apple\"},\n",
    "        {\"type\": \"fruit\", \"name\": \"banana\"}\n",
    "    ],\n",
    "    \"vegetable\": [\n",
    "        {\"type\": \"vegetable\", \"name\": \"carrot\"}\n",
    "    ]\n",
    "}\n",
    "\n",
    "assert group_by_key(items, key) == expected_output"
   ]
  },
  {
   "cell_type": "code",
   "execution_count": 2,
   "id": "df681e4c",
   "metadata": {},
   "outputs": [
    {
     "data": {
      "text/plain": [
       "{'fruit': [{'type': 'fruit', 'name': 'apple'},\n",
       "  {'type': 'fruit', 'name': 'banana'}],\n",
       " 'vegetable': [{'type': 'vegetable', 'name': 'carrot'}]}"
      ]
     },
     "execution_count": 2,
     "metadata": {},
     "output_type": "execute_result"
    }
   ],
   "source": [
    "out_put = group_by_key(items, key)\n",
    "out_put"
   ]
  },
  {
   "cell_type": "code",
   "execution_count": 3,
   "id": "e277b210",
   "metadata": {},
   "outputs": [
    {
     "data": {
      "text/plain": [
       "{'apple': [{'type': 'fruit', 'name': 'apple'}],\n",
       " 'banana': [{'type': 'fruit', 'name': 'banana'}],\n",
       " 'carrot': [{'type': 'vegetable', 'name': 'carrot'}]}"
      ]
     },
     "execution_count": 3,
     "metadata": {},
     "output_type": "execute_result"
    }
   ],
   "source": [
    "out_put = group_by_key(items, 'name')\n",
    "out_put"
   ]
  },
  {
   "cell_type": "code",
   "execution_count": null,
   "id": "593dffc0",
   "metadata": {},
   "outputs": [],
   "source": [
    "\"\"\"\n",
    "This function retrieves the email addresses of users who meet a minimum age requirement.\n",
    "I/p:- users = list {age: int}, min_age = int\n",
    "O/p:- list of email addresses\n",
    "\"\"\"\n",
    "# [] || list[str]\n",
    "\n",
    "def get_emails(users: list[dict], min_age: int)-> list[str]:\n",
    "    result: list[str] = []\n",
    "    for user in users:\n",
    "        if user['age'] >= min_age:\n",
    "            result.append(user['email'])\n",
    "    return result\n"
   ]
  }
 ],
 "metadata": {
  "kernelspec": {
   "display_name": ".venv",
   "language": "python",
   "name": "python3"
  },
  "language_info": {
   "codemirror_mode": {
    "name": "ipython",
    "version": 3
   },
   "file_extension": ".py",
   "mimetype": "text/x-python",
   "name": "python",
   "nbconvert_exporter": "python",
   "pygments_lexer": "ipython3",
   "version": "3.11.3"
  }
 },
 "nbformat": 4,
 "nbformat_minor": 5
}
