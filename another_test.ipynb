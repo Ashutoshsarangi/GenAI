{
 "cells": [
  {
   "cell_type": "code",
   "execution_count": null,
   "id": "b6dd8139",
   "metadata": {},
   "outputs": [],
   "source": [
    "#Write a Python function that takes a list of sentences and returns a dictionary mapping each unique word\n",
    "# (case-insensitive, punctuation removed) to the number of times it appears across all sentences.\n",
    "\n",
    "\"\"\"\n",
    "Example:\n",
    "Input:\n",
    "[\"Hello world!\", \"Hello, AI world.\"]\n",
    "Output:\n",
    "{\"hello\": 2, \"world\": 2, \"ai\": 1}\n",
    "\n",
    "\"\"\"\n",
    "\n",
    "# input_data = [\"Hello world!\", \"Hello, AI world.\"]\n",
    "input_data = [\"Hello world!\", \"Hello, AI world.\"]\n",
    "output_data = {}\n",
    "\n",
    "def get_count_words(sentences: list[str]) -> dict[str, int]:\n",
    "    word_count = {}\n",
    "    for sentence in sentences:\n",
    "        # Normalize the sentence: lower case and remove punctuation\n",
    "        words = ''.join(char.lower() if char.isalnum() else ' ' for char in sentence).split()\n",
    "        for word in words:\n",
    "            if word not in word_count:\n",
    "                word_count[word] = 0\n",
    "            word_count[word] += 1\n",
    "    return word_count"
   ]
  },
  {
   "cell_type": "code",
   "execution_count": 4,
   "id": "a3207622",
   "metadata": {},
   "outputs": [
    {
     "data": {
      "text/plain": [
       "{'hello': 2, 'world': 2, 'ai': 1}"
      ]
     },
     "execution_count": 4,
     "metadata": {},
     "output_type": "execute_result"
    }
   ],
   "source": [
    "output_data = get_count_words(input_data)\n",
    "output_data"
   ]
  },
  {
   "cell_type": "code",
   "execution_count": 5,
   "id": "a3391cd4",
   "metadata": {},
   "outputs": [
    {
     "data": {
      "text/plain": [
       "{'hii': 2, 'there': 3, 'hello': 1, 'world': 1}"
      ]
     },
     "execution_count": 5,
     "metadata": {},
     "output_type": "execute_result"
    }
   ],
   "source": [
    "output_data = get_count_words(['hii THERE,', 'HELLO WORLD', \"HII\", 'there', \"THERE!!!\"])\n",
    "output_data"
   ]
  },
  {
   "cell_type": "code",
   "execution_count": null,
   "id": "64703840",
   "metadata": {},
   "outputs": [],
   "source": []
  }
 ],
 "metadata": {
  "kernelspec": {
   "display_name": ".venv",
   "language": "python",
   "name": "python3"
  },
  "language_info": {
   "codemirror_mode": {
    "name": "ipython",
    "version": 3
   },
   "file_extension": ".py",
   "mimetype": "text/x-python",
   "name": "python",
   "nbconvert_exporter": "python",
   "pygments_lexer": "ipython3",
   "version": "3.11.3"
  }
 },
 "nbformat": 4,
 "nbformat_minor": 5
}
