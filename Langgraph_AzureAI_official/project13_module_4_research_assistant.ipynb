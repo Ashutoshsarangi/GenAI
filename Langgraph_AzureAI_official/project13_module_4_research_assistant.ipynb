{
 "cells": [
  {
   "cell_type": "markdown",
   "id": "e3235214",
   "metadata": {},
   "source": [
    "## Generate Analysts: Human in the Loop\n",
    "\n",
    "Create analysts and review them using human in the loop"
   ]
  },
  {
   "cell_type": "code",
   "execution_count": 6,
   "id": "b4d9d2d6",
   "metadata": {},
   "outputs": [],
   "source": [
    "from typing import List, TypedDict\n",
    "from pydantic import BaseModel, Field\n"
   ]
  },
  {
   "cell_type": "code",
   "execution_count": null,
   "id": "6898ef27",
   "metadata": {},
   "outputs": [],
   "source": [
    "class Analyst(BaseModel):\n",
    "    affiliation: str = Field(description=\"Primary affiliation of the analyst.\")"
   ]
  }
 ],
 "metadata": {
  "kernelspec": {
   "display_name": ".venv",
   "language": "python",
   "name": "python3"
  },
  "language_info": {
   "codemirror_mode": {
    "name": "ipython",
    "version": 3
   },
   "file_extension": ".py",
   "mimetype": "text/x-python",
   "name": "python",
   "nbconvert_exporter": "python",
   "pygments_lexer": "ipython3",
   "version": "3.11.3"
  }
 },
 "nbformat": 4,
 "nbformat_minor": 5
}
