{
 "cells": [
  {
   "cell_type": "code",
   "execution_count": 17,
   "id": "bbd28b66",
   "metadata": {},
   "outputs": [],
   "source": [
    "from IPython.display import Image, display\n",
    "from models import get_model\n",
    "from langchain_core.messages import SystemMessage, HumanMessage, RemoveMessage\n",
    "from langgraph.checkpoint.memory import MemorySaver\n",
    "from langgraph.graph import StateGraph, START, END, MessagesState"
   ]
  },
  {
   "cell_type": "code",
   "execution_count": 18,
   "id": "3f5a129e",
   "metadata": {},
   "outputs": [],
   "source": [
    "llm = get_model('azure')\n",
    "\n",
    "# state[\"messages\"][-2:] will return the last 2 elements from the messages list.\n",
    "\n",
    "# If there are 2 or more elements, it returns the last 2.\n",
    "# If there is only 1 element, it returns a list with that 1 element.\n",
    "# If the list is empty, it returns an empty list.\n",
    "\n",
    "class State(MessagesState):\n",
    "    \"\"\"State for the graph, inheriting from MessagesState.\"\"\"\n",
    "    summary: str\n",
    "\n",
    "def call_modal(state: State):\n",
    "    summary = state.get(\"summary\", \"\")\n",
    "\n",
    "    if summary:\n",
    "        # Add summary to system Message\n",
    "        messages = [SystemMessage(content=f\"Summarize the following conversation: {summary}\")] + state[\"messages\"]\n",
    "    else:\n",
    "        # If no summary, just use the messages\n",
    "        messages = state['messages']\n",
    "    \n",
    "    response = llm.invoke(messages)\n",
    "    return {\"messages\": response}\n",
    "\n",
    "# Define node to produce Summary\n",
    "\n",
    "def summarize_conversation(state: State):\n",
    "    summary = state.get(\"summary\", \"\")\n",
    "\n",
    "    if summary:\n",
    "        summary_message = (f\"This is summary of the conversation: {summary}\\n\\n\"\n",
    "                           \"extend the summary by taking into account the new message above:\")\n",
    "    else:\n",
    "        summary_message = \"create summary of the conversation above:\"\n",
    "    \n",
    "    messages = state['messages'] + [HumanMessage(content=summary_message)]\n",
    "    response = llm.invoke(messages)\n",
    "\n",
    "    # Delete all but the 2 most recent messages\n",
    "    delete_messages = [RemoveMessage(id=m.id) for m in state[\"messages\"][:-2]]#state['messages'][:-2] if len(state['messages']) > 2 else state['messages']\n",
    "    return {\"summary\": response.content, \"messages\": delete_messages}\n",
    "\n",
    "def should_continue(state: State):\n",
    "    #\"return the next node to execute\"\n",
    "\n",
    "    messages = state[\"messages\"]\n",
    "    if len(messages) > 6:\n",
    "        return \"summarize_conversation\"\n",
    "    \n",
    "    return \"end_conversation\"\n"
   ]
  },
  {
   "cell_type": "code",
   "execution_count": 19,
   "id": "04a6b964",
   "metadata": {},
   "outputs": [
    {
     "data": {
      "image/png": "[encoded data removed]",
      "text/plain": [
       "<IPython.core.display.Image object>"
      ]
     },
     "metadata": {},
     "output_type": "display_data"
    }
   ],
   "source": [
    "# Define the possible paths in a dictionary\n",
    "path_map = {\n",
    "    # The key is the string returned by should_continue\n",
    "    # The value is the name of the destination node\n",
    "    \"summarize_conversation\": \"summarize_conversation\",\n",
    "    \"end_conversation\": END\n",
    "}\n",
    "\n",
    "#build Graph\n",
    "graph_builder = StateGraph(State)\n",
    "graph_builder.add_node(\"conversation\", call_modal)\n",
    "graph_builder.add_node(\"summarize_conversation\", summarize_conversation)\n",
    "\n",
    "graph_builder.add_edge(START, \"conversation\")\n",
    "graph_builder.add_conditional_edges(\"conversation\", should_continue, path_map)\n",
    "graph_builder.add_edge(\"summarize_conversation\", END)\n",
    "\n",
    "#compile\n",
    "memory = MemorySaver()\n",
    "graph = graph_builder.compile(checkpointer=memory)\n",
    "display(Image(graph.get_graph().draw_mermaid_png()))"
   ]
  },
  {
   "cell_type": "markdown",
   "id": "8e97a762",
   "metadata": {},
   "source": [
    "### Streaming Full State\n",
    "\n",
    "2 methods are there .stream(sync), .astream (async) methods\n",
    "\n",
    "These Streams are having different Modes (values, updates)\n",
    "\n",
    "\n"
   ]
  },
  {
   "cell_type": "code",
   "execution_count": 20,
   "id": "746a26b2",
   "metadata": {},
   "outputs": [
    {
     "name": "stdout",
     "output_type": "stream",
     "text": [
      "==================================\u001b[1m Ai Message \u001b[0m==================================\n",
      "\n",
      "Hello, Ashutosh! 😊 It's great to meet you. How can I assist you today?\n"
     ]
    }
   ],
   "source": [
    "#create a thread\n",
    "config = {\"configurable\": {\"thread_id\": \"1\"}}\n",
    "\n",
    "#Start Conversation\n",
    "for chunk in graph.stream({\"messages\": [HumanMessage(content=\"Hello, I am Ashutosh.\")]}, config, stream_mode=\"updates\"):\n",
    "    chunk[\"conversation\"][\"messages\"].pretty_print()"
   ]
  },
  {
   "cell_type": "code",
   "execution_count": 22,
   "id": "a6716f70",
   "metadata": {},
   "outputs": [
    {
     "name": "stdout",
     "output_type": "stream",
     "text": [
      "================================\u001b[1m Human Message \u001b[0m=================================\n",
      "\n",
      "Hello, I am Ashutosh.\n",
      "==================================\u001b[1m Ai Message \u001b[0m==================================\n",
      "\n",
      "Hello, Ashutosh! 😊 It's great to meet you. How can I assist you today?\n",
      "================================\u001b[1m Human Message \u001b[0m=================================\n",
      "\n",
      "Hello, I am Ashutosh.\n",
      "--***----***----***----***----***----***----***----***----***----***----***----***----***----***----***----***----***----***----***----***----***----***----***----***----***--\n",
      "================================\u001b[1m Human Message \u001b[0m=================================\n",
      "\n",
      "Hello, I am Ashutosh.\n",
      "==================================\u001b[1m Ai Message \u001b[0m==================================\n",
      "\n",
      "Hello, Ashutosh! 😊 It's great to meet you. How can I assist you today?\n",
      "================================\u001b[1m Human Message \u001b[0m=================================\n",
      "\n",
      "Hello, I am Ashutosh.\n",
      "==================================\u001b[1m Ai Message \u001b[0m==================================\n",
      "\n",
      "Hello again, Ashutosh! 😊 How are you doing today? Do you need help with something or just want to chat?\n",
      "--***----***----***----***----***----***----***----***----***----***----***----***----***----***----***----***----***----***----***----***----***----***----***----***----***--\n"
     ]
    }
   ],
   "source": [
    "#Start conversation with values mode\n",
    "config = {\"configurable\": {\"thread_id\": \"2\"}}\n",
    "\n",
    "#Start Conversation\n",
    "for chunk in graph.stream({\"messages\": [HumanMessage(content=\"Hello, I am Ashutosh.\")]}, config, stream_mode=\"values\"):\n",
    "    for m in chunk['messages']:\n",
    "        m.pretty_print()\n",
    "    print(\"--***--\"*25)\n"
   ]
  },
  {
   "cell_type": "markdown",
   "id": "2d7e45b9",
   "metadata": {
    "vscode": {
     "languageId": "bat"
    }
   },
   "source": [
    "## astrem event"
   ]
  },
  {
   "cell_type": "code",
   "execution_count": 23,
   "id": "fbc1565c",
   "metadata": {},
   "outputs": [
    {
     "name": "stdout",
     "output_type": "stream",
     "text": [
      "||The| **|San| Francisco| |49|ers|**| are| a| professional| football| team| based| in| the| San| Francisco| Bay| Area|.| They| compete| in| the| National| Football| League| (|NFL|)| as| a| member| of| the| **|National| Football| Conference| (|N|FC|)| West| division|**|.| The| |49|ers| are| one| of| the| most| stor|ied| franchises| in| NFL| history|,| boasting| a| rich| history|,| numerous| championships|,| and| legendary| players|.\n",
      "\n",
      "|---\n",
      "\n",
      "|##| **|Fr|anchise| Overview|**\n",
      "\n",
      "|-| **|Founded|**|:| |194|6|  \n",
      "| | The| team| was| initially| part| of| the| All|-Amer|ica| Football| Conference| (|AA|FC|)| and| joined| the| NFL| in| |194|9| after| the| AA|FC| dissolved|.|  \n",
      "|-| **|Team| Name|**|:| The| team| is| named| after| the| prospect|ors| who| arrived| in| Northern| California| during| the| **|California| Gold| Rush| of| |184|9|**|.|  \n",
      "|-| **|Team| Colors|**|:| **|Red|,| Gold|,| White|**|  \n",
      "|-| **|Masc|ot|**|:| **|S|ourd|ough| Sam|**|  \n",
      "|-| **|Home| Stadium|**|:|  \n",
      "| | -| **|Le|vi|'s| Stadium|**| (|Santa| Clara|,| California|)| since| |201|4|.| Levi|’s| Stadium| is| located| about| |40| miles| south| of| San| Francisco|.\n",
      "| | -| Previously| played| at| **|Cand|lestick| Park|**| in| San| Francisco| (|197|1|–|201|3|).|  \n",
      "\n",
      "|---\n",
      "\n",
      "|##| **|Team| Ac|compl|ishments|**\n",
      "|The| |49|ers| have| a| long| history| of| success|,| particularly| in| the| |198|0|s| and| |199|0|s| under| the| leadership| of| Hall| of| Fame| players| and| groundbreaking| coaching|.\n",
      "\n",
      "|###| **|Super| Bowl| Championships|**|:| |5|  \n",
      "|1|.| **|Super| Bowl| XVI|**| (|198|1| season|)| –| Win| vs|.| Cincinnati| Bengals|  \n",
      "|2|.| **|Super| Bowl| XIX|**| (|198|4| season|)| –| Win| vs|.| Miami| Dolphins|  \n",
      "|3|.| **|Super| Bowl| XX|III|**| (|198|8| season|)| –| Win| vs|.| Cincinnati| Bengals|  \n",
      "|4|.| **|Super| Bowl| XX|IV|**| (|198|9| season|)| –| Win| vs|.| Denver| Broncos| (|still| holds| the| largest| margin| of| victory| in| Super| Bowl| history|:| |55|–|10|)|  \n",
      "|5|.| **|Super| Bowl| XX|IX|**| (|199|4| season|)| –| Win| vs|.| San| Diego| Chargers|  \n",
      "\n",
      "|###| **|Super| Bowl| Ap|pear|ances|**|:| |7|  \n",
      "|-| Lost| in| **|Super| Bowl| XL|VII|**| (|201|2| season|)| to| the| Baltimore| Ravens|.|  \n",
      "|-| Lost| in| **|Super| Bowl| LIV|**| (|201|9| season|)| to| the| Kansas| City| Chiefs|.\n",
      "\n",
      "|###| **|N|FC| Championships|**|:| |7|  \n",
      "|-| The| |49|ers| have| frequently| dominated| the| NFC| over| the| years|,| especially| during| their| dynasty| years|.\n",
      "\n",
      "|###| **|Division| Titles|**|:| |20| (|As| of| |202|3|)|  \n",
      "|-| Their| most| recent| NFC| West| title| came| in| **|202|2|**|.|  \n",
      "\n",
      "|###| **|Play|off| Ap|pear|ances|**|:| |29|  \n",
      "\n",
      "|---\n",
      "\n",
      "|##| **|Leg|ends| and| Key| Players|**\n",
      "|The| |49|ers| have| been| home| to| many| NFL| legends|,| including| some| who| helped| shape| the| game| into| what| it| is| today|.\n",
      "\n",
      "|###| **|Not|able| Players|**\n",
      "|1|.| **|Joe| Montana|**| (|QB|)|  \n",
      "|  | -| Wid|ely| regarded| as| one| of| the| greatest| quarterbacks| in| NFL| history|,| Montana| won| **|four| Super| Bowl| titles|**| with| the| team| and| earned| the| nickname| “|Joe| Cool|”| for| his| calm| demeanor| under| pressure|.|  \n",
      "|   \n",
      "|2|.| **|Jerry| Rice|**| (|WR|)|  \n",
      "|  | -| Consider|ed| the| greatest| wide| receiver| of| all| time|,| Rice| is| the| NFL|’s| all|-time| leader| in| receptions|,| receiving| yards|,| and| touchdowns|.|  \n",
      "|   \n",
      "|3|.| **|Steve| Young|**| (|QB|)|  \n",
      "|  | -| A| dual|-threat| quarterback| and| Montana|'s| successor|,| Young| led| the| |49|ers| to| a| Super| Bowl| win| in| |199|4| and| was| named| **|Super| Bowl| MVP|**|.|  \n",
      "\n",
      "|4|.| **|Ron|nie| L|ott|**| (|DB|)|  \n",
      "|  | -| A| hard|-h|itting| defensive| back| who| epit|om|ized| toughness|,| L|ott| was| instrumental| in| the| |49|ers|'| defensive| dominance| in| the| |198|0|s|.|  \n",
      "\n",
      "|5|.| **|Frank| Gore|**| (|RB|)|  \n",
      "|  | -| One| of| the| most| consistent| and| productive| running| backs| in| NFL| history|,| Gore| is| the| |49|ers|'| all|-time| leading| r|usher|.|  \n",
      "\n",
      "|6|.| **|Patrick| Willis|**| (|LB|)|  \n",
      "|  | -| Domin|ant| on| defense| in| the| |200|0|s|,| Willis| was| a| cornerstone| of| the| |49|ers|’| formidable| defenses|.|  \n",
      "\n",
      "|---\n",
      "\n",
      "|##| **|Not|able| Coaches|**\n",
      "|1|.| **|Bill| Walsh|**|  \n",
      "|  | -| Consider|ed| one| of| the| greatest| coaches| in| NFL| history|,| Walsh| pioneered| the| **|West| Coast| Off|ense|**| and| led| the| |49|ers| to| three| Super| Bowl| victories| (|198|1|,| |198|4|,| |198|8|).\n",
      "\n",
      "|2|.| **|George| Se|if|ert|**|  \n",
      "|  | -| Se|if|ert| succeeded| Walsh| and| won| two| Super| Bow|ls| with| the| |49|ers| (|198|9|,| |199|4|).|  \n",
      "\n",
      "|3|.| **|Kyle| Shan|ahan|**|  \n",
      "|  | -| H|ired| in| |201|7|,| Shan|ahan| revital|ized| the| |49|ers|,| leading| them| to| the| Super| Bowl| in| the| |201|9| season| and| making| the| franchise| a| contender| in| the| NFC| again|.|  \n",
      "\n",
      "|---\n",
      "\n",
      "|##| **|Dyn|asty| Era| (|198|0|s| -| |199|0|s|)**|:\n",
      "|The| |49|ers| achieved| legendary| status| during| the| |198|0|s| and| early| |199|0|s|,| with| dominant| performances| under| the| leadership| of| Joe| Montana|,| Steve| Young|,| and| Jerry| Rice|.| Bill| Walsh|’s| innovative| offensive| schemes| revolution|ized| the| NFL|.\n",
      "\n",
      "|---\n",
      "\n",
      "|##| **|Modern| Era|**\n",
      "|The| |49|ers| went| through| some| challenging| years| after| their| early| |199|0|s| success| but| returned| to| relevance| in| the| |201|0|s| under| Jim| Har|b|augh|,| reaching| **|Super| Bowl| XL|VII|**| in| |201|2|.| Under| current| head| coach| Kyle| Shan|ahan|,| the| team| continues| to| compete| at| a| high| level|,| reaching| the| Super| Bowl| again| in| |201|9| and| making| deep| playoff| runs| in| subsequent| seasons|.\n",
      "\n",
      "|---\n",
      "\n",
      "|##| **|R|ival|ries|**\n",
      "|1|.| **|Seattle| Seahawks|**| (|Div|isional| Rival|ry|)\n",
      "|2|.| **|Green| Bay| Packers|**| (|Play|off| Rival|ry|)\n",
      "|3|.| **|Dallas| Cowboys|**| (|Historic| Play|off| Rival|ry|,| especially| in| the| |199|0|s|)\n",
      "\n",
      "|---\n",
      "\n",
      "|The| San| Francisco| |49|ers| remain| one| of| the| most| iconic| franchises| in| NFL| history|,| known| for| their| legacy| of| excellence| and| electr|ifying| play|.| Fans| continue| to| look| for| their| next| Super| Bowl| win| to| add| to| the| team's| stor|ied| history|!||"
     ]
    }
   ],
   "source": [
    "#Start conversation with values mode\n",
    "config = {\"configurable\": {\"thread_id\": \"5\"}}\n",
    "node_to_stream = 'conversation'\n",
    "#Start Conversation\n",
    "async for event in graph.astream_events({\"messages\": [HumanMessage(content=\"tell me about 49ers NFL team\")]}, config):\n",
    "    if event[\"event\"] == \"on_chat_model_stream\" and event[\"metadata\"].get('langgraph_node', '') == node_to_stream:\n",
    "        data = event[\"data\"]\n",
    "        print(data['chunk'].content, end='|')"
   ]
  },
  {
   "cell_type": "code",
   "execution_count": null,
   "id": "1c8424b7",
   "metadata": {},
   "outputs": [],
   "source": []
  }
 ],
 "metadata": {
  "kernelspec": {
   "display_name": ".venv",
   "language": "python",
   "name": "python3"
  },
  "language_info": {
   "codemirror_mode": {
    "name": "ipython",
    "version": 3
   },
   "file_extension": ".py",
   "mimetype": "text/x-python",
   "name": "python",
   "nbconvert_exporter": "python",
   "pygments_lexer": "ipython3",
   "version": "3.11.3"
  }
 },
 "nbformat": 4,
 "nbformat_minor": 5
}
