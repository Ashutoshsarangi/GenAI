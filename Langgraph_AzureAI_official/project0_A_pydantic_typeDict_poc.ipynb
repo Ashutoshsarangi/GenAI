{
 "cells": [
  {
   "cell_type": "markdown",
   "id": "652ebff9",
   "metadata": {},
   "source": [
    "## Difference between TypedDict and Pydantic\n",
    "\n",
    "#### TypedDict - Static type checking\n",
    "- Used for static type checking in Python\n",
    "- No runtime validation or data transformation\n",
    "\n",
    "#### Pydantic - Runtime validation and data transformation\n",
    "- Provides runtime validation and data transformation\n",
    "\n",
    "### Conclussion\n",
    " Pydantic is the best one"
   ]
  },
  {
   "cell_type": "code",
   "execution_count": 1,
   "id": "e173492d",
   "metadata": {},
   "outputs": [],
   "source": [
    "from typing import List, TypedDict\n",
    "from pydantic import BaseModel, Field"
   ]
  },
  {
   "cell_type": "code",
   "execution_count": 5,
   "id": "8c0767f1",
   "metadata": {},
   "outputs": [
    {
     "name": "stdout",
     "output_type": "stream",
     "text": [
      "=== TypedDict Example ===\n",
      "TypedDict person: {'name': '', 'age': -5, 'email': 'invalid-email'}\n",
      "No validation errors - TypedDict only provides type hints!\n",
      "Valid Pydantic person: name='John Doe' age=30 email='john@example.com'\n",
      "As dict: {'name': 'John Doe', 'age': 30, 'email': 'john@example.com'}\n",
      "As JSON: {\"name\":\"John Doe\",\"age\":30,\"email\":\"john@example.com\"}\n"
     ]
    }
   ],
   "source": [
    "# Example: TypedDict vs Pydantic Comparison\n",
    "\n",
    "# 1. TypedDict - Type hints only, no runtime validation\n",
    "class PersonTypedDict(TypedDict):\n",
    "    name: str\n",
    "    age: int\n",
    "    email: str\n",
    "\n",
    "# 2. Pydantic - Runtime validation and data transformation\n",
    "class PersonPydantic(BaseModel):\n",
    "    name: str = Field(min_length=1, description=\"Person's full name\")\n",
    "    age: int = Field(ge=0, le=150, description=\"Person's age\")\n",
    "    email: str = Field(pattern=r'^[^@]+@[^@]+\\.[^@]+$', description=\"Valid email address\")\n",
    "\n",
    "print(\"=== TypedDict Example ===\")\n",
    "# TypedDict accepts invalid data without complaint\n",
    "person_dict: PersonTypedDict = {\n",
    "    \"name\": \"\",  # Empty string - invalid but no error\n",
    "    \"age\": -5,   # Negative age - invalid but no error\n",
    "    \"email\": \"invalid-email\"  # Invalid email - no error\n",
    "}\n",
    "print(f\"TypedDict person: {person_dict}\")\n",
    "print(\"No validation errors - TypedDict only provides type hints!\")\n",
    "\n",
    "# Valid Pydantic example\n",
    "try:\n",
    "    person_valid = PersonPydantic(\n",
    "        name=\"John Doe\",\n",
    "        age=30,\n",
    "        email=\"john@example.com\"\n",
    "    )\n",
    "    print(f\"Valid Pydantic person: {person_valid}\")\n",
    "    print(f\"As dict: {person_valid.model_dump()}\")\n",
    "    print(f\"As JSON: {person_valid.model_dump_json()}\")\n",
    "except Exception as e:\n",
    "    print(f\"Error: {e}\")"
   ]
  },
  {
   "cell_type": "code",
   "execution_count": 4,
   "id": "71074242",
   "metadata": {},
   "outputs": [
    {
     "name": "stdout",
     "output_type": "stream",
     "text": [
      "\n",
      "=== Pydantic Example ===\n",
      "Pydantic validation error: 3 validation errors for PersonPydantic\n",
      "name\n",
      "  String should have at least 1 character [type=string_too_short, input_value='', input_type=str]\n",
      "    For further information visit https://errors.pydantic.dev/2.11/v/string_too_short\n",
      "age\n",
      "  Input should be greater than or equal to 0 [type=greater_than_equal, input_value=-5, input_type=int]\n",
      "    For further information visit https://errors.pydantic.dev/2.11/v/greater_than_equal\n",
      "email\n",
      "  String should match pattern '^[^@]+@[^@]+\\.[^@]+$' [type=string_pattern_mismatch, input_value='invalid-email', input_type=str]\n",
      "    For further information visit https://errors.pydantic.dev/2.11/v/string_pattern_mismatch\n"
     ]
    }
   ],
   "source": [
    "print(\"\\n=== Pydantic Example ===\")\n",
    "try:\n",
    "    # Pydantic will validate and raise errors for invalid data\n",
    "    person_pydantic = PersonPydantic(\n",
    "        name=\"\",  # This will fail validation\n",
    "        age=-5,   # This will fail validation\n",
    "        email=\"invalid-email\"  # This will fail validation\n",
    "    )\n",
    "except Exception as e:\n",
    "    print(f\"Pydantic validation error: {e}\")"
   ]
  },
  {
   "cell_type": "code",
   "execution_count": null,
   "id": "000a575e",
   "metadata": {},
   "outputs": [],
   "source": []
  }
 ],
 "metadata": {
  "kernelspec": {
   "display_name": ".venv",
   "language": "python",
   "name": "python3"
  },
  "language_info": {
   "codemirror_mode": {
    "name": "ipython",
    "version": 3
   },
   "file_extension": ".py",
   "mimetype": "text/x-python",
   "name": "python",
   "nbconvert_exporter": "python",
   "pygments_lexer": "ipython3",
   "version": "3.11.3"
  }
 },
 "nbformat": 4,
 "nbformat_minor": 5
}
